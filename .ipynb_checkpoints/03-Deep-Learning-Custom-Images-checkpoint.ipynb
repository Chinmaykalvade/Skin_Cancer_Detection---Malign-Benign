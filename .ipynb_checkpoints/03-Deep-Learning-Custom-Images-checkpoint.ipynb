{
 "cells": [
  {
   "cell_type": "code",
   "execution_count": 1,
   "metadata": {},
   "outputs": [],
   "source": [
    "import matplotlib.pyplot as plt\n",
    "import cv2\n",
    "# Technically not necessary in newest versions of jupyter\n",
    "%matplotlib inline"
   ]
  },
  {
   "cell_type": "code",
   "execution_count": 2,
   "metadata": {},
   "outputs": [
    {
     "name": "stderr",
     "output_type": "stream",
     "text": [
      "Using TensorFlow backend.\n"
     ]
    }
   ],
   "source": [
    "# width,height,channels\n",
    "image_shape = (224,224,3)\n",
    "from keras.preprocessing.image import ImageDataGenerator"
   ]
  },
  {
   "cell_type": "code",
   "execution_count": null,
   "metadata": {},
   "outputs": [],
   "source": []
  },
  {
   "cell_type": "code",
   "execution_count": 3,
   "metadata": {},
   "outputs": [],
   "source": [
    "#Data preparation - image (normalisng)\n",
    "#using datagenerator Api\n",
    "image_gen = ImageDataGenerator(rotation_range=30, # rotate the image 30 degrees\n",
    "                               rescale=1/255, # Rescale the image by normalzing it.\n",
    "                               horizontal_flip=True, # Allo horizontal flipping\n",
    "                               fill_mode='nearest' # Fill in missing pixels with the nearest filled value\n",
    "                              )"
   ]
  },
  {
   "cell_type": "markdown",
   "metadata": {},
   "source": [
    "# Creating the Model - CNN\n"
   ]
  },
  {
   "cell_type": "code",
   "execution_count": 4,
   "metadata": {},
   "outputs": [],
   "source": [
    "from keras.models import Sequential\n",
    "from keras.layers import Activation, Dropout, Flatten, Dense, Conv2D, MaxPooling2D"
   ]
  },
  {
   "cell_type": "code",
   "execution_count": 5,
   "metadata": {},
   "outputs": [
    {
     "name": "stdout",
     "output_type": "stream",
     "text": [
      "WARNING:tensorflow:From C:\\Users\\samar\\Anaconda3\\lib\\site-packages\\tensorflow\\python\\framework\\op_def_library.py:263: colocate_with (from tensorflow.python.framework.ops) is deprecated and will be removed in a future version.\n",
      "Instructions for updating:\n",
      "Colocations handled automatically by placer.\n",
      "WARNING:tensorflow:From C:\\Users\\samar\\Anaconda3\\lib\\site-packages\\keras\\backend\\tensorflow_backend.py:3445: calling dropout (from tensorflow.python.ops.nn_ops) with keep_prob is deprecated and will be removed in a future version.\n",
      "Instructions for updating:\n",
      "Please use `rate` instead of `keep_prob`. Rate should be set to `rate = 1 - keep_prob`.\n"
     ]
    }
   ],
   "source": [
    "model = Sequential()\n",
    "\n",
    "model.add(Conv2D(filters=32, kernel_size=(3,3),input_shape=image_shape, activation='relu',))\n",
    "model.add(MaxPooling2D(pool_size=(2, 2)))\n",
    "model.add(Dropout(0.25))\n",
    "model.add(Conv2D(filters=64, kernel_size=(3,3), activation='relu'))\n",
    "model.add(MaxPooling2D(pool_size=(2, 2)))\n",
    "model.add(Conv2D(filters=64, kernel_size=(3,3), activation='relu'))\n",
    "model.add(MaxPooling2D(pool_size=(2, 2)))\n",
    "model.add(Dropout(0.25))\n",
    "model.add(Conv2D(filters=128, kernel_size=(3,3), activation='relu'))\n",
    "model.add(MaxPooling2D(pool_size=(2, 2)))\n",
    "model.add(Conv2D(filters=128, kernel_size=(3,3), activation='relu',))\n",
    "model.add(MaxPooling2D(pool_size=(2, 2)))\n",
    "model.add(Conv2D(filters=128, kernel_size=(3,3), activation='relu',))\n",
    "model.add(MaxPooling2D(pool_size=(2, 2)))\n",
    "model.add(Flatten())\n",
    "\n",
    "\n",
    "model.add(Dense(256))\n",
    "model.add(Activation('relu'))\n",
    "\n",
    "# Dropouts help reduce overfitting by randomly turning neurons off during training.\n",
    "# Here we say randomly turn off 50% of neurons.\n",
    "model.add(Dropout(0.5))\n",
    "\n",
    "# Last layer only one dense, remember its binary, 0=Benign , 1=Malignant\n",
    "model.add(Dense(1))\n",
    "model.add(Activation('sigmoid'))\n",
    "\n",
    "#loss fn  -  binar_crossentropy bcs 0 or 1 prediction \n",
    "model.compile(loss='binary_crossentropy',\n",
    "              optimizer='adam',\n",
    "              metrics=['accuracy'])"
   ]
  },
  {
   "cell_type": "code",
   "execution_count": 6,
   "metadata": {},
   "outputs": [
    {
     "data": {
      "text/plain": [
       "<bound method Network.summary of <keras.engine.sequential.Sequential object at 0x000001DF91093550>>"
      ]
     },
     "execution_count": 6,
     "metadata": {},
     "output_type": "execute_result"
    }
   ],
   "source": [
    "model.summary"
   ]
  },
  {
   "cell_type": "markdown",
   "metadata": {},
   "source": [
    "### Training the Model"
   ]
  },
  {
   "cell_type": "code",
   "execution_count": 7,
   "metadata": {},
   "outputs": [
    {
     "name": "stdout",
     "output_type": "stream",
     "text": [
      "Found 2637 images belonging to 2 classes.\n"
     ]
    }
   ],
   "source": [
    "batch_size = 16\n",
    "\n",
    "train_image_gen = image_gen.flow_from_directory('../skin-cancer-malignant-vs-benign/Data/train',\n",
    "                                               target_size=image_shape[:2],\n",
    "                                               batch_size=batch_size,\n",
    "                                               class_mode='binary')"
   ]
  },
  {
   "cell_type": "code",
   "execution_count": 8,
   "metadata": {},
   "outputs": [
    {
     "name": "stdout",
     "output_type": "stream",
     "text": [
      "Found 660 images belonging to 2 classes.\n"
     ]
    }
   ],
   "source": [
    "test_image_gen = image_gen.flow_from_directory('../skin-cancer-malignant-vs-benign/Data/test',\n",
    "                                                 target_size=image_shape[:2],\n",
    "                                               batch_size=batch_size,\n",
    "                                               class_mode='binary')"
   ]
  },
  {
   "cell_type": "code",
   "execution_count": 9,
   "metadata": {},
   "outputs": [
    {
     "data": {
      "text/plain": [
       "{'benign': 0, 'malignant': 1}"
      ]
     },
     "execution_count": 9,
     "metadata": {},
     "output_type": "execute_result"
    }
   ],
   "source": [
    "train_image_gen.class_indices"
   ]
  },
  {
   "cell_type": "code",
   "execution_count": 10,
   "metadata": {},
   "outputs": [],
   "source": [
    "import warnings\n",
    "warnings.filterwarnings('ignore')"
   ]
  },
  {
   "cell_type": "code",
   "execution_count": 11,
   "metadata": {
    "scrolled": true
   },
   "outputs": [
    {
     "name": "stdout",
     "output_type": "stream",
     "text": [
      "WARNING:tensorflow:From C:\\Users\\samar\\Anaconda3\\lib\\site-packages\\tensorflow\\python\\ops\\math_ops.py:3066: to_int32 (from tensorflow.python.ops.math_ops) is deprecated and will be removed in a future version.\n",
      "Instructions for updating:\n",
      "Use tf.cast instead.\n",
      "Epoch 1/100\n",
      "50/50 [==============================] - 91s 2s/step - loss: 0.6818 - acc: 0.5112 - val_loss: 0.6333 - val_acc: 0.5469\n",
      "Epoch 2/100\n",
      "50/50 [==============================] - 38s 764ms/step - loss: 0.6018 - acc: 0.6925 - val_loss: 0.6087 - val_acc: 0.7240\n",
      "Epoch 3/100\n",
      "50/50 [==============================] - 41s 825ms/step - loss: 0.5185 - acc: 0.7450 - val_loss: 0.6338 - val_acc: 0.6615\n",
      "Epoch 4/100\n",
      "50/50 [==============================] - 40s 792ms/step - loss: 0.5299 - acc: 0.7526 - val_loss: 0.4949 - val_acc: 0.7278\n",
      "Epoch 5/100\n",
      "50/50 [==============================] - 42s 833ms/step - loss: 0.5056 - acc: 0.7800 - val_loss: 0.5253 - val_acc: 0.7812\n",
      "Epoch 6/100\n",
      "50/50 [==============================] - 35s 697ms/step - loss: 0.5031 - acc: 0.7550 - val_loss: 0.4822 - val_acc: 0.7760\n",
      "Epoch 7/100\n",
      "50/50 [==============================] - 40s 795ms/step - loss: 0.4773 - acc: 0.7704 - val_loss: 0.4608 - val_acc: 0.7444\n",
      "Epoch 8/100\n",
      "50/50 [==============================] - 34s 685ms/step - loss: 0.4758 - acc: 0.7812 - val_loss: 0.4971 - val_acc: 0.7500\n",
      "Epoch 9/100\n",
      "50/50 [==============================] - 34s 681ms/step - loss: 0.4809 - acc: 0.7525 - val_loss: 0.4936 - val_acc: 0.7396\n",
      "Epoch 10/100\n",
      "50/50 [==============================] - 32s 642ms/step - loss: 0.4926 - acc: 0.7416 - val_loss: 0.4744 - val_acc: 0.7604\n",
      "Epoch 11/100\n",
      "50/50 [==============================] - 22s 444ms/step - loss: 0.4528 - acc: 0.7700 - val_loss: 0.5047 - val_acc: 0.7333\n",
      "Epoch 12/100\n",
      "50/50 [==============================] - 24s 475ms/step - loss: 0.4516 - acc: 0.7887 - val_loss: 0.4259 - val_acc: 0.8021\n",
      "Epoch 13/100\n",
      "50/50 [==============================] - 28s 561ms/step - loss: 0.4460 - acc: 0.7875 - val_loss: 0.4700 - val_acc: 0.8073\n",
      "Epoch 14/100\n",
      "50/50 [==============================] - 23s 451ms/step - loss: 0.5176 - acc: 0.7219 - val_loss: 0.4981 - val_acc: 0.7278\n",
      "Epoch 15/100\n",
      "50/50 [==============================] - 21s 419ms/step - loss: 0.4442 - acc: 0.7850 - val_loss: 0.5624 - val_acc: 0.7083\n",
      "Epoch 16/100\n",
      "50/50 [==============================] - 21s 421ms/step - loss: 0.4583 - acc: 0.7650 - val_loss: 0.5226 - val_acc: 0.6719\n",
      "Epoch 17/100\n",
      "50/50 [==============================] - 21s 417ms/step - loss: 0.4912 - acc: 0.7569 - val_loss: 0.5383 - val_acc: 0.7865\n",
      "Epoch 18/100\n",
      "50/50 [==============================] - 21s 421ms/step - loss: 0.4641 - acc: 0.7712 - val_loss: 0.4223 - val_acc: 0.7889\n",
      "Epoch 19/100\n",
      "50/50 [==============================] - 21s 424ms/step - loss: 0.4036 - acc: 0.8000 - val_loss: 0.4799 - val_acc: 0.7344\n",
      "Epoch 20/100\n",
      "50/50 [==============================] - 21s 423ms/step - loss: 0.5003 - acc: 0.7373 - val_loss: 0.4597 - val_acc: 0.7969\n",
      "Epoch 21/100\n",
      "50/50 [==============================] - 21s 422ms/step - loss: 0.4608 - acc: 0.7863 - val_loss: 0.4659 - val_acc: 0.7778\n",
      "Epoch 22/100\n",
      "50/50 [==============================] - 21s 423ms/step - loss: 0.4335 - acc: 0.7775 - val_loss: 0.4306 - val_acc: 0.8177\n",
      "Epoch 23/100\n",
      "50/50 [==============================] - 21s 422ms/step - loss: 0.4487 - acc: 0.7812 - val_loss: 0.4900 - val_acc: 0.7760\n",
      "Epoch 24/100\n",
      "50/50 [==============================] - 21s 425ms/step - loss: 0.4080 - acc: 0.8020 - val_loss: 0.3942 - val_acc: 0.7969\n",
      "Epoch 25/100\n",
      "50/50 [==============================] - 21s 422ms/step - loss: 0.4089 - acc: 0.8100 - val_loss: 0.4309 - val_acc: 0.7889\n",
      "Epoch 26/100\n",
      "50/50 [==============================] - 22s 437ms/step - loss: 0.4325 - acc: 0.7925 - val_loss: 0.4319 - val_acc: 0.7917\n",
      "Epoch 27/100\n",
      "50/50 [==============================] - 21s 421ms/step - loss: 0.3927 - acc: 0.8144 - val_loss: 0.4032 - val_acc: 0.8594\n",
      "Epoch 28/100\n",
      "50/50 [==============================] - 21s 418ms/step - loss: 0.4143 - acc: 0.8063 - val_loss: 0.4668 - val_acc: 0.7722\n",
      "Epoch 29/100\n",
      "50/50 [==============================] - 21s 421ms/step - loss: 0.4004 - acc: 0.8125 - val_loss: 0.3867 - val_acc: 0.8490\n",
      "Epoch 30/100\n",
      "50/50 [==============================] - 21s 420ms/step - loss: 0.3967 - acc: 0.8089 - val_loss: 0.4189 - val_acc: 0.8229\n",
      "Epoch 31/100\n",
      "50/50 [==============================] - 21s 422ms/step - loss: 0.4076 - acc: 0.7925 - val_loss: 0.4019 - val_acc: 0.7865\n",
      "Epoch 32/100\n",
      "50/50 [==============================] - 21s 420ms/step - loss: 0.3809 - acc: 0.8250 - val_loss: 0.4519 - val_acc: 0.7333\n",
      "Epoch 33/100\n",
      "50/50 [==============================] - 21s 421ms/step - loss: 0.4037 - acc: 0.8151 - val_loss: 0.4028 - val_acc: 0.8385\n",
      "Epoch 34/100\n",
      "50/50 [==============================] - 21s 421ms/step - loss: 0.3763 - acc: 0.8263 - val_loss: 0.3874 - val_acc: 0.8229\n",
      "Epoch 35/100\n",
      "50/50 [==============================] - 21s 421ms/step - loss: 0.4248 - acc: 0.7913 - val_loss: 0.3612 - val_acc: 0.8056\n",
      "Epoch 36/100\n",
      "50/50 [==============================] - 21s 421ms/step - loss: 0.3859 - acc: 0.8237 - val_loss: 0.3780 - val_acc: 0.8125\n",
      "Epoch 37/100\n",
      "50/50 [==============================] - 21s 421ms/step - loss: 0.3683 - acc: 0.8226 - val_loss: 0.4114 - val_acc: 0.7917\n",
      "Epoch 38/100\n",
      "50/50 [==============================] - 21s 421ms/step - loss: 0.3662 - acc: 0.8337 - val_loss: 0.4313 - val_acc: 0.8073\n",
      "Epoch 39/100\n",
      "50/50 [==============================] - 21s 421ms/step - loss: 0.4078 - acc: 0.8187 - val_loss: 0.3635 - val_acc: 0.8278\n",
      "Epoch 40/100\n",
      "50/50 [==============================] - 21s 425ms/step - loss: 0.3892 - acc: 0.8248 - val_loss: 0.3841 - val_acc: 0.8385\n",
      "Epoch 41/100\n",
      "50/50 [==============================] - 21s 422ms/step - loss: 0.3731 - acc: 0.8337 - val_loss: 0.3810 - val_acc: 0.8281\n",
      "Epoch 42/100\n",
      "50/50 [==============================] - 21s 424ms/step - loss: 0.3956 - acc: 0.8175 - val_loss: 0.4023 - val_acc: 0.8278\n",
      "Epoch 43/100\n",
      "50/50 [==============================] - 21s 429ms/step - loss: 0.3401 - acc: 0.8369 - val_loss: 0.3894 - val_acc: 0.8333\n",
      "Epoch 44/100\n",
      "50/50 [==============================] - 21s 423ms/step - loss: 0.3497 - acc: 0.8337 - val_loss: 0.3717 - val_acc: 0.8125\n",
      "Epoch 45/100\n",
      "50/50 [==============================] - 21s 426ms/step - loss: 0.4028 - acc: 0.8275 - val_loss: 0.3521 - val_acc: 0.8594\n",
      "Epoch 46/100\n",
      "50/50 [==============================] - 21s 422ms/step - loss: 0.3359 - acc: 0.8538 - val_loss: 0.3469 - val_acc: 0.8111\n",
      "Epoch 47/100\n",
      "50/50 [==============================] - 21s 423ms/step - loss: 0.3634 - acc: 0.8379 - val_loss: 0.3438 - val_acc: 0.8594\n",
      "Epoch 48/100\n",
      "50/50 [==============================] - 21s 422ms/step - loss: 0.3735 - acc: 0.8300 - val_loss: 0.4124 - val_acc: 0.7812\n",
      "Epoch 49/100\n",
      "50/50 [==============================] - 21s 422ms/step - loss: 0.3377 - acc: 0.8462 - val_loss: 0.3585 - val_acc: 0.8389\n",
      "Epoch 50/100\n",
      "50/50 [==============================] - 21s 421ms/step - loss: 0.3740 - acc: 0.8216 - val_loss: 0.3212 - val_acc: 0.8646\n",
      "Epoch 51/100\n",
      "50/50 [==============================] - 21s 425ms/step - loss: 0.4043 - acc: 0.8213 - val_loss: 0.5090 - val_acc: 0.7448\n",
      "Epoch 52/100\n",
      "50/50 [==============================] - 21s 425ms/step - loss: 0.3652 - acc: 0.8300 - val_loss: 0.3580 - val_acc: 0.8490\n",
      "Epoch 53/100\n",
      "50/50 [==============================] - 21s 419ms/step - loss: 0.3190 - acc: 0.8547 - val_loss: 0.4730 - val_acc: 0.7556\n",
      "Epoch 54/100\n",
      "50/50 [==============================] - 21s 427ms/step - loss: 0.3853 - acc: 0.8275 - val_loss: 0.3548 - val_acc: 0.8438\n",
      "Epoch 55/100\n",
      "50/50 [==============================] - 21s 427ms/step - loss: 0.3186 - acc: 0.8488 - val_loss: 0.4084 - val_acc: 0.7656\n",
      "Epoch 56/100\n",
      "50/50 [==============================] - 21s 426ms/step - loss: 0.3721 - acc: 0.8263 - val_loss: 0.4421 - val_acc: 0.7833\n",
      "Epoch 57/100\n",
      "50/50 [==============================] - 21s 427ms/step - loss: 0.3298 - acc: 0.8491 - val_loss: 0.4083 - val_acc: 0.8281\n",
      "Epoch 58/100\n",
      "50/50 [==============================] - 21s 427ms/step - loss: 0.3297 - acc: 0.8387 - val_loss: 0.3110 - val_acc: 0.8906\n",
      "Epoch 59/100\n",
      "50/50 [==============================] - 21s 427ms/step - loss: 0.3435 - acc: 0.8625 - val_loss: 0.3558 - val_acc: 0.8229\n",
      "Epoch 60/100\n",
      "50/50 [==============================] - 21s 422ms/step - loss: 0.3616 - acc: 0.8369 - val_loss: 0.3880 - val_acc: 0.7944\n",
      "Epoch 61/100\n",
      "50/50 [==============================] - 22s 444ms/step - loss: 0.3351 - acc: 0.8413 - val_loss: 0.3914 - val_acc: 0.8073\n",
      "Epoch 62/100\n",
      "50/50 [==============================] - 22s 436ms/step - loss: 0.3522 - acc: 0.8475 - val_loss: 0.3749 - val_acc: 0.8073\n",
      "Epoch 63/100\n",
      "50/50 [==============================] - 21s 427ms/step - loss: 0.3407 - acc: 0.8554 - val_loss: 0.3465 - val_acc: 0.8500\n",
      "Epoch 64/100\n",
      "50/50 [==============================] - 21s 430ms/step - loss: 0.3001 - acc: 0.8662 - val_loss: 0.4964 - val_acc: 0.7448\n",
      "Epoch 65/100\n",
      "50/50 [==============================] - 21s 429ms/step - loss: 0.3633 - acc: 0.8337 - val_loss: 0.4143 - val_acc: 0.7552\n",
      "Epoch 66/100\n",
      "50/50 [==============================] - 21s 429ms/step - loss: 0.3512 - acc: 0.8482 - val_loss: 0.3008 - val_acc: 0.8750\n",
      "Epoch 67/100\n",
      "50/50 [==============================] - 21s 429ms/step - loss: 0.3143 - acc: 0.8425 - val_loss: 0.3821 - val_acc: 0.7889\n",
      "Epoch 68/100\n",
      "50/50 [==============================] - 22s 435ms/step - loss: 0.3619 - acc: 0.8337 - val_loss: 0.3611 - val_acc: 0.8438\n",
      "Epoch 69/100\n",
      "50/50 [==============================] - 21s 428ms/step - loss: 0.3120 - acc: 0.8662 - val_loss: 0.3272 - val_acc: 0.8542\n",
      "Epoch 70/100\n",
      "50/50 [==============================] - 21s 427ms/step - loss: 0.3512 - acc: 0.8416 - val_loss: 0.3950 - val_acc: 0.8278\n",
      "Epoch 71/100\n",
      "50/50 [==============================] - 22s 432ms/step - loss: 0.3131 - acc: 0.8475 - val_loss: 0.3877 - val_acc: 0.7865\n",
      "Epoch 72/100\n",
      "50/50 [==============================] - 21s 429ms/step - loss: 0.3517 - acc: 0.8425 - val_loss: 0.3291 - val_acc: 0.8646\n",
      "Epoch 73/100\n",
      "50/50 [==============================] - 22s 432ms/step - loss: 0.3583 - acc: 0.8414 - val_loss: 0.3483 - val_acc: 0.8542\n",
      "Epoch 74/100\n",
      "50/50 [==============================] - 22s 431ms/step - loss: 0.3429 - acc: 0.8387 - val_loss: 0.3539 - val_acc: 0.8389\n",
      "Epoch 75/100\n",
      "50/50 [==============================] - 22s 430ms/step - loss: 0.3465 - acc: 0.8425 - val_loss: 0.3597 - val_acc: 0.8073\n",
      "Epoch 76/100\n",
      "50/50 [==============================] - 21s 428ms/step - loss: 0.3229 - acc: 0.8591 - val_loss: 0.3651 - val_acc: 0.8229\n",
      "Epoch 77/100\n",
      "50/50 [==============================] - 22s 431ms/step - loss: 0.3551 - acc: 0.8300 - val_loss: 0.4450 - val_acc: 0.7722\n",
      "Epoch 78/100\n",
      "50/50 [==============================] - 22s 432ms/step - loss: 0.3174 - acc: 0.8563 - val_loss: 0.4842 - val_acc: 0.7604\n",
      "Epoch 79/100\n",
      "50/50 [==============================] - 21s 428ms/step - loss: 0.3104 - acc: 0.8638 - val_loss: 0.4176 - val_acc: 0.7969\n",
      "Epoch 80/100\n",
      "50/50 [==============================] - 21s 428ms/step - loss: 0.3641 - acc: 0.8422 - val_loss: 0.4356 - val_acc: 0.8021\n",
      "Epoch 81/100\n",
      "50/50 [==============================] - 21s 428ms/step - loss: 0.3211 - acc: 0.8512 - val_loss: 0.2952 - val_acc: 0.8667\n",
      "Epoch 82/100\n",
      "50/50 [==============================] - 22s 435ms/step - loss: 0.3156 - acc: 0.8488 - val_loss: 0.3720 - val_acc: 0.8333\n",
      "Epoch 83/100\n",
      "50/50 [==============================] - 23s 456ms/step - loss: 0.3603 - acc: 0.8282 - val_loss: 0.3584 - val_acc: 0.8333\n",
      "Epoch 84/100\n",
      "50/50 [==============================] - 22s 433ms/step - loss: 0.3357 - acc: 0.8462 - val_loss: 0.3415 - val_acc: 0.8333\n",
      "Epoch 85/100\n",
      "50/50 [==============================] - 21s 429ms/step - loss: 0.3483 - acc: 0.8400 - val_loss: 0.4150 - val_acc: 0.7812\n",
      "Epoch 86/100\n",
      "50/50 [==============================] - 21s 429ms/step - loss: 0.3389 - acc: 0.8389 - val_loss: 0.3502 - val_acc: 0.8438\n",
      "Epoch 87/100\n",
      "50/50 [==============================] - 22s 432ms/step - loss: 0.3347 - acc: 0.8688 - val_loss: 0.3104 - val_acc: 0.8542\n",
      "Epoch 88/100\n",
      "50/50 [==============================] - 22s 431ms/step - loss: 0.3186 - acc: 0.8550 - val_loss: 0.3713 - val_acc: 0.8389\n",
      "Epoch 89/100\n",
      "50/50 [==============================] - 22s 435ms/step - loss: 0.3460 - acc: 0.8438 - val_loss: 0.3183 - val_acc: 0.8698\n",
      "Epoch 90/100\n",
      "50/50 [==============================] - 22s 432ms/step - loss: 0.3150 - acc: 0.8529 - val_loss: 0.3219 - val_acc: 0.8385\n",
      "Epoch 91/100\n",
      "50/50 [==============================] - 21s 429ms/step - loss: 0.3267 - acc: 0.8612 - val_loss: 0.4264 - val_acc: 0.8167\n",
      "Epoch 92/100\n",
      "50/50 [==============================] - 22s 432ms/step - loss: 0.3467 - acc: 0.8387 - val_loss: 0.3528 - val_acc: 0.8646\n",
      "Epoch 93/100\n",
      "50/50 [==============================] - 21s 428ms/step - loss: 0.3362 - acc: 0.8460 - val_loss: 0.3314 - val_acc: 0.8177\n",
      "Epoch 94/100\n",
      "50/50 [==============================] - 22s 437ms/step - loss: 0.2891 - acc: 0.8850 - val_loss: 0.3610 - val_acc: 0.8021\n",
      "Epoch 95/100\n",
      "50/50 [==============================] - 21s 428ms/step - loss: 0.3097 - acc: 0.8725 - val_loss: 0.3227 - val_acc: 0.8500\n",
      "Epoch 96/100\n",
      "50/50 [==============================] - 22s 437ms/step - loss: 0.3194 - acc: 0.8382 - val_loss: 0.4122 - val_acc: 0.7865\n",
      "Epoch 97/100\n",
      "50/50 [==============================] - 22s 438ms/step - loss: 0.3494 - acc: 0.8375 - val_loss: 0.3560 - val_acc: 0.8177\n",
      "Epoch 98/100\n",
      "50/50 [==============================] - 22s 431ms/step - loss: 0.2936 - acc: 0.8762 - val_loss: 0.3246 - val_acc: 0.8778\n",
      "Epoch 99/100\n",
      "50/50 [==============================] - 22s 433ms/step - loss: 0.3029 - acc: 0.8700 - val_loss: 0.3913 - val_acc: 0.8125\n",
      "Epoch 100/100\n",
      "50/50 [==============================] - 22s 431ms/step - loss: 0.3105 - acc: 0.8638 - val_loss: 0.3587 - val_acc: 0.8490\n"
     ]
    }
   ],
   "source": [
    "#the number of samples processed for each epoch is batch_size * steps_per_epochs\n",
    "results = model.fit_generator(train_image_gen,epochs=100,\n",
    "                              steps_per_epoch=50,\n",
    "                              validation_data=test_image_gen,\n",
    "                             validation_steps=12,\n",
    "                             )"
   ]
  },
  {
   "cell_type": "code",
   "execution_count": 12,
   "metadata": {},
   "outputs": [
    {
     "name": "stdout",
     "output_type": "stream",
     "text": [
      "0.8187339555222835\n",
      "0.80228125\n",
      "0.3845804656147041\n",
      "0.4097546759678258\n"
     ]
    }
   ],
   "source": [
    "import numpy as np\n",
    "print(np.mean(results.history['acc']))\n",
    "print(np.mean(results.history['val_acc']))\n",
    "print(np.mean(results.history['loss']))\n",
    "print(np.mean(results.history['val_loss']))\n"
   ]
  },
  {
   "cell_type": "markdown",
   "metadata": {},
   "source": [
    "# Evaluating the Model"
   ]
  },
  {
   "cell_type": "code",
   "execution_count": 13,
   "metadata": {},
   "outputs": [
    {
     "data": {
      "image/png": "[encoded data removed]",
      "text/plain": [
       "<Figure size 432x288 with 1 Axes>"
      ]
     },
     "metadata": {
      "needs_background": "light"
     },
     "output_type": "display_data"
    }
   ],
   "source": [
    "plt.plot(results.history['acc'])\n",
    "plt.plot(results.history['val_acc'])\n",
    "plt.title('model accuracy')\n",
    "plt.ylabel('accuracy')\n",
    "plt.xlabel('epoch')\n",
    "plt.show()"
   ]
  },
  {
   "cell_type": "code",
   "execution_count": 14,
   "metadata": {},
   "outputs": [
    {
     "data": {
      "image/png": "[encoded data removed]",
      "text/plain": [
       "<Figure size 432x288 with 1 Axes>"
      ]
     },
     "metadata": {
      "needs_background": "light"
     },
     "output_type": "display_data"
    }
   ],
   "source": [
    "plt.plot(results.history['loss'])\n",
    "plt.plot(results.history['val_loss'])\n",
    "plt.title('model loss')\n",
    "plt.ylabel('loss')\n",
    "plt.xlabel('epoch')\n",
    "plt.legend(['train', 'test'], loc='upper left')\n",
    "plt.show()"
   ]
  },
  {
   "cell_type": "markdown",
   "metadata": {},
   "source": [
    "# Predicting on new images"
   ]
  },
  {
   "cell_type": "code",
   "execution_count": 15,
   "metadata": {},
   "outputs": [
    {
     "data": {
      "text/plain": [
       "{'benign': 0, 'malignant': 1}"
      ]
     },
     "execution_count": 15,
     "metadata": {},
     "output_type": "execute_result"
    }
   ],
   "source": [
    "train_image_gen.class_indices"
   ]
  },
  {
   "cell_type": "code",
   "execution_count": 16,
   "metadata": {},
   "outputs": [],
   "source": [
    "import numpy as np\n",
    "from keras.preprocessing import image\n",
    "\n",
    "benign_file = '../skin-cancer-malignant-vs-benign/Data/test/benign/1657.jpg'\n",
    "\n",
    "benign_img = image.load_img(benign_file)\n",
    "\n",
    "benign_img = image.img_to_array(benign_img)\n",
    "benign_img = benign_img/255\n",
    "benign_img = benign_img.reshape(image_shape[:2])\n",
    "\n"
   ]
  },
  {
   "cell_type": "code",
   "execution_count": 17,
   "metadata": {},
   "outputs": [
    {
     "ename": "ValueError",
     "evalue": "Error when checking input: expected conv2d_1_input to have 4 dimensions, but got array with shape (224, 224, 3)",
     "output_type": "error",
     "traceback": [
      "\u001b[1;31m---------------------------------------------------------------------------\u001b[0m",
      "\u001b[1;31mValueError\u001b[0m                                Traceback (most recent call last)",
      "\u001b[1;32m<ipython-input-17-7bcd27f71c75>\u001b[0m in \u001b[0;36m<module>\u001b[1;34m\u001b[0m\n\u001b[1;32m----> 1\u001b[1;33m \u001b[0mprediction_prob\u001b[0m \u001b[1;33m=\u001b[0m \u001b[0mmodel\u001b[0m\u001b[1;33m.\u001b[0m\u001b[0mpredict\u001b[0m\u001b[1;33m(\u001b[0m\u001b[0mbenign_img\u001b[0m\u001b[1;33m)\u001b[0m\u001b[1;33m\u001b[0m\u001b[1;33m\u001b[0m\u001b[0m\n\u001b[0m",
      "\u001b[1;32m~\\Anaconda3\\lib\\site-packages\\keras\\engine\\training.py\u001b[0m in \u001b[0;36mpredict\u001b[1;34m(self, x, batch_size, verbose, steps)\u001b[0m\n\u001b[0;32m   1147\u001b[0m                              'argument.')\n\u001b[0;32m   1148\u001b[0m         \u001b[1;31m# Validate user data.\u001b[0m\u001b[1;33m\u001b[0m\u001b[1;33m\u001b[0m\u001b[1;33m\u001b[0m\u001b[0m\n\u001b[1;32m-> 1149\u001b[1;33m         \u001b[0mx\u001b[0m\u001b[1;33m,\u001b[0m \u001b[0m_\u001b[0m\u001b[1;33m,\u001b[0m \u001b[0m_\u001b[0m \u001b[1;33m=\u001b[0m \u001b[0mself\u001b[0m\u001b[1;33m.\u001b[0m\u001b[0m_standardize_user_data\u001b[0m\u001b[1;33m(\u001b[0m\u001b[0mx\u001b[0m\u001b[1;33m)\u001b[0m\u001b[1;33m\u001b[0m\u001b[1;33m\u001b[0m\u001b[0m\n\u001b[0m\u001b[0;32m   1150\u001b[0m         \u001b[1;32mif\u001b[0m \u001b[0mself\u001b[0m\u001b[1;33m.\u001b[0m\u001b[0mstateful\u001b[0m\u001b[1;33m:\u001b[0m\u001b[1;33m\u001b[0m\u001b[1;33m\u001b[0m\u001b[0m\n\u001b[0;32m   1151\u001b[0m             \u001b[1;32mif\u001b[0m \u001b[0mx\u001b[0m\u001b[1;33m[\u001b[0m\u001b[1;36m0\u001b[0m\u001b[1;33m]\u001b[0m\u001b[1;33m.\u001b[0m\u001b[0mshape\u001b[0m\u001b[1;33m[\u001b[0m\u001b[1;36m0\u001b[0m\u001b[1;33m]\u001b[0m \u001b[1;33m>\u001b[0m \u001b[0mbatch_size\u001b[0m \u001b[1;32mand\u001b[0m \u001b[0mx\u001b[0m\u001b[1;33m[\u001b[0m\u001b[1;36m0\u001b[0m\u001b[1;33m]\u001b[0m\u001b[1;33m.\u001b[0m\u001b[0mshape\u001b[0m\u001b[1;33m[\u001b[0m\u001b[1;36m0\u001b[0m\u001b[1;33m]\u001b[0m \u001b[1;33m%\u001b[0m \u001b[0mbatch_size\u001b[0m \u001b[1;33m!=\u001b[0m \u001b[1;36m0\u001b[0m\u001b[1;33m:\u001b[0m\u001b[1;33m\u001b[0m\u001b[1;33m\u001b[0m\u001b[0m\n",
      "\u001b[1;32m~\\Anaconda3\\lib\\site-packages\\keras\\engine\\training.py\u001b[0m in \u001b[0;36m_standardize_user_data\u001b[1;34m(self, x, y, sample_weight, class_weight, check_array_lengths, batch_size)\u001b[0m\n\u001b[0;32m    749\u001b[0m             \u001b[0mfeed_input_shapes\u001b[0m\u001b[1;33m,\u001b[0m\u001b[1;33m\u001b[0m\u001b[1;33m\u001b[0m\u001b[0m\n\u001b[0;32m    750\u001b[0m             \u001b[0mcheck_batch_axis\u001b[0m\u001b[1;33m=\u001b[0m\u001b[1;32mFalse\u001b[0m\u001b[1;33m,\u001b[0m  \u001b[1;31m# Don't enforce the batch size.\u001b[0m\u001b[1;33m\u001b[0m\u001b[1;33m\u001b[0m\u001b[0m\n\u001b[1;32m--> 751\u001b[1;33m             exception_prefix='input')\n\u001b[0m\u001b[0;32m    752\u001b[0m \u001b[1;33m\u001b[0m\u001b[0m\n\u001b[0;32m    753\u001b[0m         \u001b[1;32mif\u001b[0m \u001b[0my\u001b[0m \u001b[1;32mis\u001b[0m \u001b[1;32mnot\u001b[0m \u001b[1;32mNone\u001b[0m\u001b[1;33m:\u001b[0m\u001b[1;33m\u001b[0m\u001b[1;33m\u001b[0m\u001b[0m\n",
      "\u001b[1;32m~\\Anaconda3\\lib\\site-packages\\keras\\engine\\training_utils.py\u001b[0m in \u001b[0;36mstandardize_input_data\u001b[1;34m(data, names, shapes, check_batch_axis, exception_prefix)\u001b[0m\n\u001b[0;32m    126\u001b[0m                         \u001b[1;34m': expected '\u001b[0m \u001b[1;33m+\u001b[0m \u001b[0mnames\u001b[0m\u001b[1;33m[\u001b[0m\u001b[0mi\u001b[0m\u001b[1;33m]\u001b[0m \u001b[1;33m+\u001b[0m \u001b[1;34m' to have '\u001b[0m \u001b[1;33m+\u001b[0m\u001b[1;33m\u001b[0m\u001b[1;33m\u001b[0m\u001b[0m\n\u001b[0;32m    127\u001b[0m                         \u001b[0mstr\u001b[0m\u001b[1;33m(\u001b[0m\u001b[0mlen\u001b[0m\u001b[1;33m(\u001b[0m\u001b[0mshape\u001b[0m\u001b[1;33m)\u001b[0m\u001b[1;33m)\u001b[0m \u001b[1;33m+\u001b[0m \u001b[1;34m' dimensions, but got array '\u001b[0m\u001b[1;33m\u001b[0m\u001b[1;33m\u001b[0m\u001b[0m\n\u001b[1;32m--> 128\u001b[1;33m                         'with shape ' + str(data_shape))\n\u001b[0m\u001b[0;32m    129\u001b[0m                 \u001b[1;32mif\u001b[0m \u001b[1;32mnot\u001b[0m \u001b[0mcheck_batch_axis\u001b[0m\u001b[1;33m:\u001b[0m\u001b[1;33m\u001b[0m\u001b[1;33m\u001b[0m\u001b[0m\n\u001b[0;32m    130\u001b[0m                     \u001b[0mdata_shape\u001b[0m \u001b[1;33m=\u001b[0m \u001b[0mdata_shape\u001b[0m\u001b[1;33m[\u001b[0m\u001b[1;36m1\u001b[0m\u001b[1;33m:\u001b[0m\u001b[1;33m]\u001b[0m\u001b[1;33m\u001b[0m\u001b[1;33m\u001b[0m\u001b[0m\n",
      "\u001b[1;31mValueError\u001b[0m: Error when checking input: expected conv2d_1_input to have 4 dimensions, but got array with shape (224, 224, 3)"
     ]
    }
   ],
   "source": [
    "prediction_prob = model.predict(benign_img)"
   ]
  },
  {
   "cell_type": "code",
   "execution_count": null,
   "metadata": {},
   "outputs": [],
   "source": [
    "# Output prediction\n",
    "print(f'Probability that image is a Belign is: {prediction_prob} ')"
   ]
  },
  {
   "cell_type": "code",
   "execution_count": null,
   "metadata": {},
   "outputs": [],
   "source": []
  }
 ],
 "metadata": {
  "kernelspec": {
   "display_name": "Python 3",
   "language": "python",
   "name": "python3"
  },
  "language_info": {
   "codemirror_mode": {
    "name": "ipython",
    "version": 3
   },
   "file_extension": ".py",
   "mimetype": "text/x-python",
   "name": "python",
   "nbconvert_exporter": "python",
   "pygments_lexer": "ipython3",
   "version": "3.7.3"
  }
 },
 "nbformat": 4,
 "nbformat_minor": 2
}
