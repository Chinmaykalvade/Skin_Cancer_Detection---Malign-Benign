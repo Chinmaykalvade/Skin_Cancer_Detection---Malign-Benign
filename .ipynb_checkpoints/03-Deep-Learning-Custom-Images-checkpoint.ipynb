{
 "cells": [
  {
   "cell_type": "markdown",
   "metadata": {},
   "source": []
  },
  {
   "cell_type": "code",
   "execution_count": 47,
   "metadata": {},
   "outputs": [],
   "source": [
    "import matplotlib.pyplot as plt\n",
    "import cv2"
   ]
  },
  {
   "cell_type": "code",
   "execution_count": 48,
   "metadata": {},
   "outputs": [],
   "source": [
    "b = cv2.imread('../skin-cancer-malignant-vs-benign/DATA/train/benign/3.jpg')\n",
    "b = cv2.cvtColor(b,cv2.COLOR_BGR2RGB)"
   ]
  },
  {
   "cell_type": "code",
   "execution_count": 49,
   "metadata": {},
   "outputs": [
    {
     "data": {
      "text/plain": [
       "(224, 224, 3)"
      ]
     },
     "execution_count": 49,
     "metadata": {},
     "output_type": "execute_result"
    }
   ],
   "source": [
    "b.shape"
   ]
  },
  {
   "cell_type": "code",
   "execution_count": 50,
   "metadata": {},
   "outputs": [],
   "source": [
    "from keras.preprocessing.image import ImageDataGenerator"
   ]
  },
  {
   "cell_type": "code",
   "execution_count": 51,
   "metadata": {},
   "outputs": [],
   "source": [
    "image_gen = ImageDataGenerator(rescale=1/255, # Rescale the image by normalzing it.\n",
    "                               )"
   ]
  },
  {
   "cell_type": "code",
   "execution_count": 52,
   "metadata": {},
   "outputs": [],
   "source": [
    "# width,height,channels\n",
    "image_shape = (224,224,3)"
   ]
  },
  {
   "cell_type": "markdown",
   "metadata": {},
   "source": [
    "# Creating the Model"
   ]
  },
  {
   "cell_type": "code",
   "execution_count": 53,
   "metadata": {},
   "outputs": [],
   "source": [
    "from keras.models import Sequential\n",
    "from keras.layers import Activation, Dropout, Flatten, Dense, Conv2D, MaxPooling2D"
   ]
  },
  {
   "cell_type": "code",
   "execution_count": 63,
   "metadata": {},
   "outputs": [],
   "source": [
    "model = Sequential()\n",
    "\n",
    "model.add(Conv2D(filters=32, kernel_size=(3,3),input_shape=image_shape, activation='relu',))\n",
    "model.add(MaxPooling2D(pool_size=(2, 2)))\n",
    "model.add(Dropout(0.25))\n",
    "\n",
    "\n",
    "model.add(Conv2D(filters=64, kernel_size=(3,3), activation='relu'))\n",
    "model.add(MaxPooling2D(pool_size=(2, 2)))\n",
    "model.add(Conv2D(filters=64, kernel_size=(3,3), activation='relu'))\n",
    "model.add(MaxPooling2D(pool_size=(2, 2)))\n",
    "model.add(Dropout(0.25))\n",
    "\n",
    "\n",
    "model.add(Conv2D(filters=64, kernel_size=(3,3), activation='relu'))\n",
    "model.add(MaxPooling2D(pool_size=(2, 2)))\n",
    "model.add(Conv2D(filters=128, kernel_size=(3,3), activation='relu',))\n",
    "model.add(MaxPooling2D(pool_size=(2, 2)))\n",
    "model.add(Conv2D(filters=128, kernel_size=(3,3), activation='relu',))\n",
    "model.add(MaxPooling2D(pool_size=(2, 2)))\n",
    "\n",
    "\n",
    "\n",
    "\n",
    "model.add(Flatten())\n",
    "\n",
    "\n",
    "model.add(Dense(256))\n",
    "model.add(Activation('relu'))\n",
    "\n",
    "# Dropouts help reduce overfitting by randomly turning neurons off during training.\n",
    "# Here we say randomly turn off 50% of neurons.\n",
    "model.add(Dropout(0.5))\n",
    "\n",
    "# Last layer, remember its binary, 0=Benign , 1=Malignant\n",
    "model.add(Dense(1))\n",
    "model.add(Activation('sigmoid'))\n",
    "\n",
    "model.compile(loss='binary_crossentropy',\n",
    "              optimizer='adam',\n",
    "              metrics=['accuracy'])"
   ]
  },
  {
   "cell_type": "code",
   "execution_count": 64,
   "metadata": {},
   "outputs": [
    {
     "name": "stdout",
     "output_type": "stream",
     "text": [
      "_________________________________________________________________\n",
      "Layer (type)                 Output Shape              Param #   \n",
      "=================================================================\n",
      "conv2d_16 (Conv2D)           (None, 222, 222, 32)      896       \n",
      "_________________________________________________________________\n",
      "max_pooling2d_16 (MaxPooling (None, 111, 111, 32)      0         \n",
      "_________________________________________________________________\n",
      "conv2d_17 (Conv2D)           (None, 109, 109, 64)      18496     \n",
      "_________________________________________________________________\n",
      "max_pooling2d_17 (MaxPooling (None, 54, 54, 64)        0         \n",
      "_________________________________________________________________\n",
      "conv2d_18 (Conv2D)           (None, 52, 52, 64)        36928     \n",
      "_________________________________________________________________\n",
      "max_pooling2d_18 (MaxPooling (None, 26, 26, 64)        0         \n",
      "_________________________________________________________________\n",
      "flatten_6 (Flatten)          (None, 43264)             0         \n",
      "_________________________________________________________________\n",
      "dense_11 (Dense)             (None, 128)               5537920   \n",
      "_________________________________________________________________\n",
      "activation_11 (Activation)   (None, 128)               0         \n",
      "_________________________________________________________________\n",
      "dropout_6 (Dropout)          (None, 128)               0         \n",
      "_________________________________________________________________\n",
      "dense_12 (Dense)             (None, 1)                 129       \n",
      "_________________________________________________________________\n",
      "activation_12 (Activation)   (None, 1)                 0         \n",
      "=================================================================\n",
      "Total params: 5,594,369\n",
      "Trainable params: 5,594,369\n",
      "Non-trainable params: 0\n",
      "_________________________________________________________________\n"
     ]
    }
   ],
   "source": [
    "model.summary()"
   ]
  },
  {
   "cell_type": "markdown",
   "metadata": {},
   "source": [
    "### Training the Model"
   ]
  },
  {
   "cell_type": "code",
   "execution_count": 66,
   "metadata": {},
   "outputs": [
    {
     "name": "stdout",
     "output_type": "stream",
     "text": [
      "Found 2638 images belonging to 2 classes.\n"
     ]
    }
   ],
   "source": [
    "batch_size = 16\n",
    "\n",
    "train_image_gen = image_gen.flow_from_directory('../skin-cancer-malignant-vs-benign/Data/train',\n",
    "                                               target_size=image_shape[:2],\n",
    "                                               batch_size=batch_size,\n",
    "                                               class_mode='binary')"
   ]
  },
  {
   "cell_type": "code",
   "execution_count": 67,
   "metadata": {},
   "outputs": [
    {
     "name": "stdout",
     "output_type": "stream",
     "text": [
      "Found 660 images belonging to 2 classes.\n"
     ]
    }
   ],
   "source": [
    "test_image_gen = image_gen.flow_from_directory('../skin-cancer-malignant-vs-benign/Data/test',\n",
    "                                                 target_size=image_shape[:2],\n",
    "                                               batch_size=batch_size,\n",
    "                                               class_mode='binary')"
   ]
  },
  {
   "cell_type": "code",
   "execution_count": 68,
   "metadata": {},
   "outputs": [
    {
     "data": {
      "text/plain": [
       "{'benign': 0, 'malignant': 1}"
      ]
     },
     "execution_count": 68,
     "metadata": {},
     "output_type": "execute_result"
    }
   ],
   "source": [
    "train_image_gen.class_indices"
   ]
  },
  {
   "cell_type": "code",
   "execution_count": 69,
   "metadata": {},
   "outputs": [],
   "source": [
    "import warnings\n",
    "warnings.filterwarnings('ignore')"
   ]
  },
  {
   "cell_type": "code",
   "execution_count": 75,
   "metadata": {
    "scrolled": true
   },
   "outputs": [
    {
     "name": "stdout",
     "output_type": "stream",
     "text": [
      "Epoch 1/100\n",
      "150/150 [==============================] - 51s 342ms/step - loss: 0.3653 - acc: 0.8289 - val_loss: 0.3884 - val_acc: 0.7969\n",
      "Epoch 2/100\n",
      "150/150 [==============================] - 51s 342ms/step - loss: 0.3816 - acc: 0.8167 - val_loss: 0.3454 - val_acc: 0.8438\n",
      "Epoch 3/100\n",
      "150/150 [==============================] - 51s 341ms/step - loss: 0.3320 - acc: 0.8486 - val_loss: 0.4475 - val_acc: 0.7917\n",
      "Epoch 4/100\n",
      "150/150 [==============================] - 51s 341ms/step - loss: 0.3534 - acc: 0.8385 - val_loss: 0.3356 - val_acc: 0.8389\n",
      "Epoch 5/100\n",
      "150/150 [==============================] - 51s 342ms/step - loss: 0.2903 - acc: 0.8649 - val_loss: 0.2723 - val_acc: 0.8906\n",
      "Epoch 6/100\n",
      "150/150 [==============================] - 51s 342ms/step - loss: 0.2479 - acc: 0.8857 - val_loss: 0.4360 - val_acc: 0.8125\n",
      "Epoch 7/100\n",
      "150/150 [==============================] - 51s 342ms/step - loss: 0.2726 - acc: 0.8861 - val_loss: 0.4711 - val_acc: 0.7944\n",
      "Epoch 8/100\n",
      "150/150 [==============================] - 51s 343ms/step - loss: 0.2699 - acc: 0.8856 - val_loss: 0.4114 - val_acc: 0.8333\n",
      "Epoch 9/100\n",
      "150/150 [==============================] - 51s 342ms/step - loss: 0.2326 - acc: 0.8945 - val_loss: 0.3749 - val_acc: 0.8125\n",
      "Epoch 10/100\n",
      "150/150 [==============================] - 51s 342ms/step - loss: 0.2440 - acc: 0.8929 - val_loss: 0.3064 - val_acc: 0.8646\n",
      "Epoch 11/100\n",
      "150/150 [==============================] - 51s 341ms/step - loss: 0.2013 - acc: 0.9148 - val_loss: 0.4788 - val_acc: 0.8222\n",
      "Epoch 12/100\n",
      "150/150 [==============================] - 51s 341ms/step - loss: 0.2219 - acc: 0.9085 - val_loss: 0.4654 - val_acc: 0.8438\n",
      "Epoch 13/100\n",
      "150/150 [==============================] - 51s 341ms/step - loss: 0.1846 - acc: 0.9263 - val_loss: 0.4034 - val_acc: 0.8281\n",
      "Epoch 14/100\n",
      "150/150 [==============================] - 51s 341ms/step - loss: 0.1818 - acc: 0.9229 - val_loss: 0.4214 - val_acc: 0.8222\n",
      "Epoch 15/100\n",
      "150/150 [==============================] - 51s 341ms/step - loss: 0.1348 - acc: 0.9454 - val_loss: 0.5106 - val_acc: 0.8281\n",
      "Epoch 16/100\n",
      "150/150 [==============================] - 51s 341ms/step - loss: 0.1558 - acc: 0.9304 - val_loss: 0.4571 - val_acc: 0.8438\n",
      "Epoch 17/100\n",
      "150/150 [==============================] - 51s 341ms/step - loss: 0.1088 - acc: 0.9579 - val_loss: 0.5683 - val_acc: 0.8229\n",
      "Epoch 18/100\n",
      "150/150 [==============================] - 51s 341ms/step - loss: 0.1651 - acc: 0.9358 - val_loss: 0.4110 - val_acc: 0.8444\n",
      "Epoch 19/100\n",
      "150/150 [==============================] - 51s 341ms/step - loss: 0.1431 - acc: 0.9454 - val_loss: 0.6613 - val_acc: 0.7812\n",
      "Epoch 20/100\n",
      "150/150 [==============================] - 51s 341ms/step - loss: 0.1164 - acc: 0.9574 - val_loss: 0.6694 - val_acc: 0.8281\n",
      "Epoch 21/100\n",
      "150/150 [==============================] - 51s 341ms/step - loss: 0.1115 - acc: 0.9541 - val_loss: 0.6771 - val_acc: 0.8278\n",
      "Epoch 22/100\n",
      "150/150 [==============================] - 51s 341ms/step - loss: 0.1007 - acc: 0.9620 - val_loss: 0.6567 - val_acc: 0.7917\n",
      "Epoch 23/100\n",
      "150/150 [==============================] - 51s 341ms/step - loss: 0.0781 - acc: 0.9671 - val_loss: 0.5929 - val_acc: 0.8594\n",
      "Epoch 24/100\n",
      "150/150 [==============================] - 51s 341ms/step - loss: 0.0731 - acc: 0.9725 - val_loss: 0.7411 - val_acc: 0.8281\n",
      "Epoch 25/100\n",
      "150/150 [==============================] - 51s 340ms/step - loss: 0.0735 - acc: 0.9787 - val_loss: 0.7511 - val_acc: 0.8500\n",
      "Epoch 26/100\n",
      "150/150 [==============================] - 51s 341ms/step - loss: 0.0779 - acc: 0.9742 - val_loss: 0.5859 - val_acc: 0.8542\n",
      "Epoch 27/100\n",
      "150/150 [==============================] - 51s 341ms/step - loss: 0.1225 - acc: 0.9524 - val_loss: 1.0817 - val_acc: 0.7969\n",
      "Epoch 28/100\n",
      "150/150 [==============================] - 51s 340ms/step - loss: 0.0591 - acc: 0.9829 - val_loss: 0.4734 - val_acc: 0.8611\n",
      "Epoch 29/100\n",
      "150/150 [==============================] - 51s 341ms/step - loss: 0.1089 - acc: 0.9671 - val_loss: 0.3101 - val_acc: 0.8802\n",
      "Epoch 30/100\n",
      "150/150 [==============================] - 51s 341ms/step - loss: 0.0519 - acc: 0.9804 - val_loss: 1.2617 - val_acc: 0.8125\n",
      "Epoch 31/100\n",
      "150/150 [==============================] - 51s 341ms/step - loss: 0.0494 - acc: 0.9842 - val_loss: 0.9312 - val_acc: 0.8177\n",
      "Epoch 32/100\n",
      "150/150 [==============================] - 51s 340ms/step - loss: 0.0453 - acc: 0.9850 - val_loss: 0.8062 - val_acc: 0.8833\n",
      "Epoch 33/100\n",
      "150/150 [==============================] - 51s 341ms/step - loss: 0.0309 - acc: 0.9892 - val_loss: 1.2773 - val_acc: 0.8021\n",
      "Epoch 34/100\n",
      "150/150 [==============================] - 51s 341ms/step - loss: 0.0557 - acc: 0.9779 - val_loss: 0.6870 - val_acc: 0.8333\n",
      "Epoch 35/100\n",
      "150/150 [==============================] - 51s 340ms/step - loss: 0.0437 - acc: 0.9833 - val_loss: 0.6280 - val_acc: 0.8556\n",
      "Epoch 36/100\n",
      "150/150 [==============================] - 51s 341ms/step - loss: 0.0251 - acc: 0.9904 - val_loss: 0.8604 - val_acc: 0.8229\n",
      "Epoch 37/100\n",
      "150/150 [==============================] - 51s 341ms/step - loss: 0.0351 - acc: 0.9900 - val_loss: 0.6527 - val_acc: 0.8490\n",
      "Epoch 38/100\n",
      "150/150 [==============================] - 51s 341ms/step - loss: 0.0512 - acc: 0.9820 - val_loss: 0.8994 - val_acc: 0.8698\n",
      "Epoch 39/100\n",
      "150/150 [==============================] - 51s 340ms/step - loss: 0.0495 - acc: 0.9837 - val_loss: 1.0032 - val_acc: 0.8333\n",
      "Epoch 40/100\n",
      "150/150 [==============================] - 51s 341ms/step - loss: 0.0325 - acc: 0.9929 - val_loss: 0.9191 - val_acc: 0.8490\n",
      "Epoch 41/100\n",
      "150/150 [==============================] - 51s 341ms/step - loss: 0.0199 - acc: 0.9929 - val_loss: 1.0168 - val_acc: 0.8438\n",
      "Epoch 42/100\n",
      "150/150 [==============================] - 51s 341ms/step - loss: 0.0622 - acc: 0.9833 - val_loss: 0.7638 - val_acc: 0.8333\n",
      "Epoch 43/100\n",
      "150/150 [==============================] - 51s 341ms/step - loss: 0.0705 - acc: 0.9742 - val_loss: 0.8363 - val_acc: 0.8125\n",
      "Epoch 44/100\n",
      "150/150 [==============================] - 51s 341ms/step - loss: 0.0255 - acc: 0.9887 - val_loss: 1.0168 - val_acc: 0.8333\n",
      "Epoch 45/100\n",
      "150/150 [==============================] - 51s 341ms/step - loss: 0.0744 - acc: 0.9779 - val_loss: 0.8986 - val_acc: 0.8490\n",
      "Epoch 46/100\n",
      "150/150 [==============================] - 51s 341ms/step - loss: 0.0511 - acc: 0.9850 - val_loss: 1.1071 - val_acc: 0.8111\n",
      "Epoch 47/100\n",
      "150/150 [==============================] - 51s 341ms/step - loss: 0.0475 - acc: 0.9815 - val_loss: 0.7761 - val_acc: 0.8438\n",
      "Epoch 48/100\n",
      "150/150 [==============================] - 51s 341ms/step - loss: 0.0233 - acc: 0.9912 - val_loss: 0.8930 - val_acc: 0.8490\n",
      "Epoch 49/100\n",
      "150/150 [==============================] - 51s 341ms/step - loss: 0.0266 - acc: 0.9920 - val_loss: 1.0236 - val_acc: 0.8278\n",
      "Epoch 50/100\n",
      "150/150 [==============================] - 51s 341ms/step - loss: 0.0288 - acc: 0.9908 - val_loss: 0.7707 - val_acc: 0.8854\n",
      "Epoch 51/100\n",
      "150/150 [==============================] - 51s 341ms/step - loss: 0.0361 - acc: 0.9892 - val_loss: 0.9750 - val_acc: 0.8125\n",
      "Epoch 52/100\n",
      "150/150 [==============================] - 51s 341ms/step - loss: 0.0754 - acc: 0.9817 - val_loss: 1.0801 - val_acc: 0.8021\n",
      "Epoch 53/100\n",
      "150/150 [==============================] - 51s 340ms/step - loss: 0.0185 - acc: 0.9929 - val_loss: 1.4820 - val_acc: 0.7722\n",
      "Epoch 54/100\n",
      "150/150 [==============================] - 51s 341ms/step - loss: 0.0101 - acc: 0.9975 - val_loss: 0.7894 - val_acc: 0.8542\n",
      "Epoch 55/100\n",
      "150/150 [==============================] - 51s 341ms/step - loss: 0.0208 - acc: 0.9946 - val_loss: 1.0232 - val_acc: 0.8438\n",
      "Epoch 56/100\n",
      "150/150 [==============================] - 51s 341ms/step - loss: 0.0216 - acc: 0.9933 - val_loss: 0.8352 - val_acc: 0.8722\n",
      "Epoch 57/100\n",
      "150/150 [==============================] - 51s 342ms/step - loss: 0.0333 - acc: 0.9921 - val_loss: 1.2517 - val_acc: 0.8177\n",
      "Epoch 58/100\n",
      "150/150 [==============================] - 51s 341ms/step - loss: 0.0786 - acc: 0.9808 - val_loss: 0.6418 - val_acc: 0.8750\n",
      "Epoch 59/100\n",
      "150/150 [==============================] - 51s 341ms/step - loss: 0.0143 - acc: 0.9954 - val_loss: 1.0930 - val_acc: 0.8021\n",
      "Epoch 60/100\n",
      "150/150 [==============================] - 51s 341ms/step - loss: 0.0181 - acc: 0.9958 - val_loss: 0.9732 - val_acc: 0.8389\n",
      "Epoch 61/100\n",
      "150/150 [==============================] - 51s 341ms/step - loss: 0.0170 - acc: 0.9962 - val_loss: 0.7249 - val_acc: 0.8698\n",
      "Epoch 62/100\n",
      "150/150 [==============================] - 51s 342ms/step - loss: 0.0201 - acc: 0.9962 - val_loss: 1.0474 - val_acc: 0.8333\n",
      "Epoch 63/100\n",
      "150/150 [==============================] - 51s 341ms/step - loss: 0.0831 - acc: 0.9804 - val_loss: 1.4570 - val_acc: 0.7333\n",
      "Epoch 64/100\n",
      "150/150 [==============================] - 51s 342ms/step - loss: 0.1290 - acc: 0.9654 - val_loss: 1.1522 - val_acc: 0.8385\n",
      "Epoch 65/100\n",
      "150/150 [==============================] - 51s 342ms/step - loss: 0.0240 - acc: 0.9954 - val_loss: 1.0827 - val_acc: 0.8385\n",
      "Epoch 66/100\n",
      "150/150 [==============================] - 51s 341ms/step - loss: 0.0282 - acc: 0.9929 - val_loss: 1.1153 - val_acc: 0.8073\n",
      "Epoch 67/100\n",
      "150/150 [==============================] - 51s 341ms/step - loss: 0.1271 - acc: 0.9679 - val_loss: 1.0917 - val_acc: 0.8111\n",
      "Epoch 68/100\n",
      "150/150 [==============================] - 51s 341ms/step - loss: 0.0235 - acc: 0.9933 - val_loss: 0.8062 - val_acc: 0.8490\n",
      "Epoch 69/100\n",
      "150/150 [==============================] - 51s 341ms/step - loss: 0.0113 - acc: 0.9962 - val_loss: 1.1312 - val_acc: 0.8490\n",
      "Epoch 70/100\n",
      "150/150 [==============================] - 51s 341ms/step - loss: 0.0283 - acc: 0.9912 - val_loss: 1.0396 - val_acc: 0.8000\n",
      "Epoch 71/100\n",
      "150/150 [==============================] - 51s 341ms/step - loss: 0.0361 - acc: 0.9908 - val_loss: 1.1777 - val_acc: 0.8229\n",
      "Epoch 72/100\n",
      "150/150 [==============================] - 51s 341ms/step - loss: 0.0225 - acc: 0.9942 - val_loss: 1.0771 - val_acc: 0.8229\n",
      "Epoch 73/100\n",
      "150/150 [==============================] - 51s 341ms/step - loss: 0.0453 - acc: 0.9837 - val_loss: 0.7682 - val_acc: 0.8542\n",
      "Epoch 74/100\n",
      "150/150 [==============================] - 51s 341ms/step - loss: 0.0204 - acc: 0.9942 - val_loss: 1.2305 - val_acc: 0.8333\n",
      "Epoch 75/100\n",
      "150/150 [==============================] - 51s 341ms/step - loss: 0.0201 - acc: 0.9962 - val_loss: 1.0764 - val_acc: 0.8385\n",
      "Epoch 76/100\n",
      "150/150 [==============================] - 51s 341ms/step - loss: 0.0263 - acc: 0.9933 - val_loss: 1.5006 - val_acc: 0.7917\n",
      "Epoch 77/100\n",
      "150/150 [==============================] - 51s 341ms/step - loss: 0.0435 - acc: 0.9887 - val_loss: 0.9404 - val_acc: 0.8556\n",
      "Epoch 78/100\n",
      "150/150 [==============================] - 51s 341ms/step - loss: 0.0192 - acc: 0.9929 - val_loss: 1.2559 - val_acc: 0.8177\n",
      "Epoch 79/100\n",
      "150/150 [==============================] - 51s 341ms/step - loss: 0.0234 - acc: 0.9908 - val_loss: 1.1623 - val_acc: 0.8229\n",
      "Epoch 80/100\n",
      "150/150 [==============================] - 51s 341ms/step - loss: 0.0342 - acc: 0.9920 - val_loss: 1.3080 - val_acc: 0.8177\n",
      "Epoch 81/100\n",
      "150/150 [==============================] - 51s 340ms/step - loss: 0.0061 - acc: 0.9983 - val_loss: 1.0351 - val_acc: 0.8778\n",
      "Epoch 82/100\n",
      "150/150 [==============================] - 51s 341ms/step - loss: 0.0096 - acc: 0.9958 - val_loss: 1.2687 - val_acc: 0.8177\n",
      "Epoch 83/100\n",
      "150/150 [==============================] - 51s 341ms/step - loss: 0.0179 - acc: 0.9958 - val_loss: 1.3688 - val_acc: 0.8125\n",
      "Epoch 84/100\n",
      "150/150 [==============================] - 51s 341ms/step - loss: 0.0305 - acc: 0.9929 - val_loss: 1.1207 - val_acc: 0.8500\n",
      "Epoch 85/100\n",
      "150/150 [==============================] - 51s 341ms/step - loss: 0.0218 - acc: 0.9937 - val_loss: 1.0725 - val_acc: 0.8438\n",
      "Epoch 86/100\n",
      "150/150 [==============================] - 51s 341ms/step - loss: 0.0076 - acc: 0.9971 - val_loss: 1.0829 - val_acc: 0.8438\n",
      "Epoch 87/100\n",
      "150/150 [==============================] - 51s 341ms/step - loss: 0.0286 - acc: 0.9962 - val_loss: 1.1923 - val_acc: 0.8281\n",
      "Epoch 88/100\n",
      "150/150 [==============================] - 51s 341ms/step - loss: 0.0151 - acc: 0.9941 - val_loss: 1.4206 - val_acc: 0.7944\n",
      "Epoch 89/100\n",
      "150/150 [==============================] - 51s 341ms/step - loss: 0.0127 - acc: 0.9962 - val_loss: 1.1615 - val_acc: 0.8438\n",
      "Epoch 90/100\n",
      "150/150 [==============================] - 51s 341ms/step - loss: 0.0110 - acc: 0.9967 - val_loss: 0.9777 - val_acc: 0.8490\n",
      "Epoch 91/100\n",
      "150/150 [==============================] - 51s 341ms/step - loss: 0.0574 - acc: 0.9825 - val_loss: 1.6581 - val_acc: 0.8111\n",
      "Epoch 92/100\n",
      "150/150 [==============================] - 51s 341ms/step - loss: 0.0217 - acc: 0.9912 - val_loss: 1.3226 - val_acc: 0.8229\n",
      "Epoch 93/100\n",
      "150/150 [==============================] - 51s 341ms/step - loss: 0.0277 - acc: 0.9925 - val_loss: 1.4745 - val_acc: 0.8125\n",
      "Epoch 94/100\n",
      "150/150 [==============================] - 51s 341ms/step - loss: 0.1887 - acc: 0.9700 - val_loss: 1.9261 - val_acc: 0.7865\n",
      "Epoch 95/100\n",
      "150/150 [==============================] - 51s 341ms/step - loss: 0.0237 - acc: 0.9933 - val_loss: 1.1977 - val_acc: 0.8389\n",
      "Epoch 96/100\n",
      "150/150 [==============================] - 51s 341ms/step - loss: 0.0595 - acc: 0.9899 - val_loss: 1.4494 - val_acc: 0.8281\n",
      "Epoch 97/100\n",
      "150/150 [==============================] - 51s 342ms/step - loss: 0.0229 - acc: 0.9942 - val_loss: 1.3299 - val_acc: 0.8125\n",
      "Epoch 98/100\n",
      "150/150 [==============================] - 51s 341ms/step - loss: 0.0619 - acc: 0.9887 - val_loss: 1.1168 - val_acc: 0.8222\n",
      "Epoch 99/100\n",
      "150/150 [==============================] - 51s 342ms/step - loss: 0.0152 - acc: 0.9962 - val_loss: 1.5927 - val_acc: 0.8125\n",
      "Epoch 100/100\n",
      "150/150 [==============================] - 51s 341ms/step - loss: 0.0104 - acc: 0.9966 - val_loss: 1.1883 - val_acc: 0.8385\n"
     ]
    }
   ],
   "source": [
    "results = model.fit_generator(train_image_gen,epochs=100,\n",
    "                              steps_per_epoch=150,\n",
    "                              validation_data=test_image_gen,\n",
    "                             validation_steps=12,\n",
    "                             )"
   ]
  },
  {
   "cell_type": "code",
   "execution_count": 89,
   "metadata": {},
   "outputs": [
    {
     "name": "stdout",
     "output_type": "stream",
     "text": [
      "0.9695358075901173\n",
      "0.8305520833333334\n",
      "0.08066788042769835\n",
      "0.9198246133344665\n"
     ]
    }
   ],
   "source": [
    "import numpy as np\n",
    "print(np.mean(results.history['acc']))\n",
    "print(np.mean(results.history['val_acc']))\n",
    "print(np.mean(results.history['loss']))\n",
    "print(np.mean(results.history['val_loss']))\n"
   ]
  },
  {
   "cell_type": "markdown",
   "metadata": {},
   "source": [
    "# Evaluating the Model"
   ]
  },
  {
   "cell_type": "code",
   "execution_count": 77,
   "metadata": {},
   "outputs": [
    {
     "data": {
      "image/png": "[encoded data removed]",
      "text/plain": [
       "<Figure size 432x288 with 1 Axes>"
      ]
     },
     "metadata": {
      "needs_background": "light"
     },
     "output_type": "display_data"
    }
   ],
   "source": [
    "plt.plot(results.history['acc'])\n",
    "plt.plot(results.history['val_acc'])\n",
    "plt.title('model accuracy')\n",
    "plt.ylabel('accuracy')\n",
    "plt.xlabel('epoch')\n",
    "plt.show()"
   ]
  },
  {
   "cell_type": "code",
   "execution_count": 78,
   "metadata": {},
   "outputs": [
    {
     "data": {
      "image/png": "[encoded data removed]",
      "text/plain": [
       "<Figure size 432x288 with 1 Axes>"
      ]
     },
     "metadata": {
      "needs_background": "light"
     },
     "output_type": "display_data"
    }
   ],
   "source": [
    "plt.plot(results.history['loss'])\n",
    "plt.plot(results.history['val_loss'])\n",
    "plt.title('model loss')\n",
    "plt.ylabel('loss')\n",
    "plt.xlabel('epoch')\n",
    "plt.legend(['train', 'test'], loc='upper left')\n",
    "plt.show()"
   ]
  },
  {
   "cell_type": "markdown",
   "metadata": {},
   "source": [
    "# Predicting on new images"
   ]
  },
  {
   "cell_type": "code",
   "execution_count": null,
   "metadata": {},
   "outputs": [],
   "source": [
    "train_image_gen.class_indices"
   ]
  },
  {
   "cell_type": "code",
   "execution_count": null,
   "metadata": {},
   "outputs": [],
   "source": [
    "import numpy as np\n",
    "from keras.preprocessing import image\n",
    "\n",
    "dog_file = '../DATA/CATS_DOGS/train/Dog/2.jpg'\n",
    "\n",
    "dog_img = image.load_img(dog_file, target_size=(150, 150))\n",
    "\n",
    "dog_img = image.img_to_array(dog_img)\n",
    "\n",
    "dog_img = np.expand_dims(dog_img, axis=0)\n",
    "dog_img = dog_img/255"
   ]
  },
  {
   "cell_type": "code",
   "execution_count": null,
   "metadata": {},
   "outputs": [],
   "source": [
    "prediction_prob = model.predict(dog_img)"
   ]
  },
  {
   "cell_type": "code",
   "execution_count": null,
   "metadata": {},
   "outputs": [],
   "source": [
    "# Output prediction\n",
    "print(f'Probability that image is a dog is: {prediction_prob} ')"
   ]
  },
  {
   "cell_type": "markdown",
   "metadata": {},
   "source": [
    "# Great Job!"
   ]
  }
 ],
 "metadata": {
  "kernelspec": {
   "display_name": "Python 3",
   "language": "python",
   "name": "python3"
  },
  "language_info": {
   "codemirror_mode": {
    "name": "ipython",
    "version": 3
   },
   "file_extension": ".py",
   "mimetype": "text/x-python",
   "name": "python",
   "nbconvert_exporter": "python",
   "pygments_lexer": "ipython3",
   "version": "3.7.3"
  }
 },
 "nbformat": 4,
 "nbformat_minor": 2
}
